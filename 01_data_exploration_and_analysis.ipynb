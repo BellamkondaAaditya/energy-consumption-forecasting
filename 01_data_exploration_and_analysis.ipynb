# Energy Consumption Forecasting - Data Exploration and Analysis

# Import libraries
import pandas as pd
import numpy as np
import matplotlib.pyplot as plt
import seaborn as sns
import plotly.express as px
from datetime import datetime
import warnings
warnings.filterwarnings('ignore')

# Set display options
pd.set_option('display.max_columns', None)
plt.style.use('default')
sns.set_palette("husl")

print("Libraries imported successfully")

# Load the London Smart Meter dataset
try:
    # Load energy consumption data
    energy_data = pd.read_csv('../data/raw/daily_dataset.csv')
    print(f"Energy data loaded: {energy_data.shape}")
    
    # Load weather data
    weather_data = pd.read_csv('../data/raw/weather_hourly_darksky.csv')
    print(f"Weather data loaded: {weather_data.shape}")
    
except FileNotFoundError:
    print("Dataset not found. Download from: https://www.kaggle.com/datasets/jeanmidev/smart-meters-in-london")

# Basic data exploration
print("\n=== ENERGY DATA OVERVIEW ===")
print("Columns:", energy_data.columns.tolist())
print("Shape:", energy_data.shape)
print("\nFirst 5 rows:")
energy_data.head()

print("\nBasic statistics:")
energy_data.describe()

print("\nMissing values:")
energy_data.isnull().sum()

# Convert date columns
energy_data['day'] = pd.to_datetime(energy_data['day'])
weather_data['time'] = pd.to_datetime(weather_data['time'])

print(f"\nDate range: {energy_data['day'].min()} to {energy_data['day'].max()}")

# Basic statistics
total_households = energy_data['LCLid'].nunique()
total_observations = len(energy_data)
avg_consumption = energy_data['energy_sum'].mean()

print(f"\nTotal households: {total_households:,}")
print(f"Total observations: {total_observations:,}")
print(f"Average daily consumption: {avg_consumption:.2f} kWh")

# Energy consumption distribution
fig, axes = plt.subplots(1, 3, figsize=(15, 5))

# Histogram
axes[0].hist(energy_data['energy_sum'], bins=50, alpha=0.7, color='skyblue')
axes[0].set_title('Energy Consumption Distribution')
axes[0].set_xlabel('Energy Consumption (kWh)')
axes[0].set_ylabel('Frequency')

# Box plot
axes[1].boxplot(energy_data['energy_sum'])
axes[1].set_title('Energy Consumption Box Plot')
axes[1].set_ylabel('Energy Consumption (kWh)')

# Time series trend
daily_consumption = energy_data.groupby('day')['energy_sum'].mean()
axes[2].plot(daily_consumption.index, daily_consumption.values, alpha=0.8)
axes[2].set_title('Daily Average Consumption Trend')
axes[2].set_xlabel('Date')
axes[2].set_ylabel('Average Consumption (kWh)')

plt.tight_layout()
plt.show()

# Create temporal features
energy_data['year'] = energy_data['day'].dt.year
energy_data['month'] = energy_data['day'].dt.month
energy_data['day_of_week'] = energy_data['day'].dt.dayofweek
energy_data['is_weekend'] = energy_data['day_of_week'].isin([5, 6]).astype(int)

# Seasonal patterns
fig, axes = plt.subplots(1, 2, figsize=(15, 5))

# Monthly patterns
monthly_avg = energy_data.groupby('month')['energy_sum'].mean()
axes[0].plot(monthly_avg.index, monthly_avg.values, marker='o', linewidth=2)
axes[0].set_title('Average Consumption by Month')
axes[0].set_xlabel('Month')
axes[0].set_ylabel('Average Consumption (kWh)')
axes[0].grid(True, alpha=0.3)

# Day of week patterns
dow_avg = energy_data.groupby('day_of_week')['energy_sum'].mean()
dow_names = ['Mon', 'Tue', 'Wed', 'Thu', 'Fri', 'Sat', 'Sun']
axes[1].bar(range(7), dow_avg.values, color='lightcoral', alpha=0.8)
axes[1].set_title('Average Consumption by Day of Week')
axes[1].set_xlabel('Day of Week')
axes[1].set_ylabel('Average Consumption (kWh)')
axes[1].set_xticks(range(7))
axes[1].set_xticklabels(dow_names)

plt.tight_layout()
plt.show()

# Household analysis
household_stats = energy_data.groupby('LCLid')['energy_sum'].agg([
    'count', 'mean', 'std', 'min', 'max'
]).reset_index()
household_stats.columns = ['household_id', 'days_recorded', 'avg_consumption', 
                          'std_consumption', 'min_consumption', 'max_consumption']

print("\n=== HOUSEHOLD STATISTICS ===")
print(household_stats.describe().round(2))

# Top and bottom consumers
print("\nTop 5 highest consumption households:")
print(household_stats.nlargest(5, 'avg_consumption')[['household_id', 'avg_consumption']])

print("\nTop 5 lowest consumption households:")
print(household_stats.nsmallest(5, 'avg_consumption')[['household_id', 'avg_consumption']])

# Outlier analysis using IQR
Q1 = energy_data['energy_sum'].quantile(0.25)
Q3 = energy_data['energy_sum'].quantile(0.75)
IQR = Q3 - Q1
lower_bound = Q1 - 1.5 * IQR
upper_bound = Q3 + 1.5 * IQR

outliers = energy_data[(energy_data['energy_sum'] < lower_bound) | 
                      (energy_data['energy_sum'] > upper_bound)]

print(f"\n=== OUTLIER ANALYSIS ===")
print(f"Lower bound: {lower_bound:.2f} kWh")
print(f"Upper bound: {upper_bound:.2f} kWh")
print(f"Number of outliers: {len(outliers):,} ({len(outliers)/len(energy_data)*100:.2f}%)")

# Weather data exploration
print("\n=== WEATHER DATA OVERVIEW ===")
print("Weather columns:", weather_data.columns.tolist())
print("\nWeather statistics:")
weather_numeric = weather_data.select_dtypes(include=[np.number])
print(weather_numeric.describe().round(2))

# Save processed data
try:
    energy_data.to_csv('../data/processed/energy_data_processed.csv', index=False)
    household_stats.to_csv('../data/processed/household_statistics.csv', index=False)
    weather_data.to_csv('../data/processed/weather_data_processed.csv', index=False)
    print("\n=== DATA SAVED ===")
    print("Files saved to ../data/processed/:")
    print("- energy_data_processed.csv")
    print("- household_statistics.csv") 
    print("- weather_data_processed.csv")
except:
    print("Error saving files. Check if ../data/processed/ directory exists")

# Summary
print("\n=== SUMMARY ===")
print(f"Dataset contains {total_households:,} households over {energy_data['day'].nunique()} days")
print(f"Average consumption: {avg_consumption:.2f} kWh/day")
print(f"Data completeness: {((len(energy_data) - energy_data.isnull().sum().sum()) / len(energy_data) * 100):.1f}%")
print("Seasonal patterns and household variations detected")
print("Data ready for feature engineering and modeling")

print("\nNext steps:")
print("1. Feature engineering (lag features, rolling averages)")
print("2. Data merging (energy + weather)")
print("3. Model development (LSTM, Random Forest)")
print("4. Model evaluation and comparison")
